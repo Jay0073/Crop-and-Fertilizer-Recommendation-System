{
 "cells": [
  {
   "cell_type": "code",
   "execution_count": 13,
   "metadata": {},
   "outputs": [],
   "source": [
    "import numpy as np\n",
    "from sklearn.preprocessing import StandardScaler\n",
    "import joblib"
   ]
  },
  {
   "cell_type": "code",
   "execution_count": 14,
   "metadata": {},
   "outputs": [],
   "source": [
    "# load the model\n",
    "model = joblib.load('Models/fertilizer_prediction_model.pkl')"
   ]
  },
  {
   "cell_type": "code",
   "execution_count": 15,
   "metadata": {},
   "outputs": [],
   "source": [
    "scaler = StandardScaler()"
   ]
  },
  {
   "cell_type": "code",
   "execution_count": 18,
   "metadata": {},
   "outputs": [],
   "source": [
    "def recommend_fertilizer(temperature, humidity, moisture, soil_type, crop_type, nitrogen, potassium, phosphorous):\n",
    "    features = np.array([[temperature, humidity, moisture, soil_type, crop_type, nitrogen, potassium, phosphorous]])\n",
    "    transformed_features = scaler.fit_transform(features)\n",
    "    prediction = model.predict(transformed_features).reshape(1, -1)\n",
    "    fert_dict = {\n",
    "    0: 'Urea',\n",
    "    1: 'DAP',\n",
    "    2: '28-28',\n",
    "    3: '14-35-14',\n",
    "    4: '20-20',\n",
    "    5: '17-17-17',\n",
    "    6: '10-26-26',\n",
    "    }\n",
    "    predicted_fert = [fert_dict[i] for i in prediction[0]]\n",
    "    \n",
    "    return predicted_fert\n",
    "    "
   ]
  },
  {
   "cell_type": "code",
   "execution_count": null,
   "metadata": {},
   "outputs": [
    {
     "name": "stdout",
     "output_type": "stream",
     "text": [
      "['28-28'] is the predicted fertilizer for the given features\n"
     ]
    }
   ],
   "source": [
    "# predicting on new data\n",
    "# You can change the values and check the fertilizer predicted\n",
    "temperature = 30\n",
    "humidity = 0.7\n",
    "moisture = 0.5\n",
    "soil_type = 3\n",
    "crop_type = 2\n",
    "nitrogen = 20\n",
    "potassium = 24\n",
    "phosphorous= 6\n",
    "\n",
    "\n",
    "# recommend fertilizer\n",
    "predicted_fertilizer = recommend_fertilizer(temperature, humidity, moisture, soil_type, crop_type, nitrogen, potassium, phosphorous)\n",
    "print(f\"{predicted_fertilizer} is the predicted fertilizer for the given features\")"
   ]
  }
 ],
 "metadata": {
  "kernelspec": {
   "display_name": "Python 3",
   "language": "python",
   "name": "python3"
  },
  "language_info": {
   "codemirror_mode": {
    "name": "ipython",
    "version": 3
   },
   "file_extension": ".py",
   "mimetype": "text/x-python",
   "name": "python",
   "nbconvert_exporter": "python",
   "pygments_lexer": "ipython3",
   "version": "3.12.3"
  }
 },
 "nbformat": 4,
 "nbformat_minor": 2
}
